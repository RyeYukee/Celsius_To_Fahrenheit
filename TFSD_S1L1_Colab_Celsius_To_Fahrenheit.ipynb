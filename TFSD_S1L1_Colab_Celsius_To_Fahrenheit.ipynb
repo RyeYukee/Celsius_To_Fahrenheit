{
 "cells": [
  {
   "cell_type": "code",
   "execution_count": 1,
   "metadata": {
    "colab": {},
    "colab_type": "code",
    "id": "nrBnZ627JFxa"
   },
   "outputs": [],
   "source": [
    "import tensorflow as tf\n",
    "tf.logging.set_verbosity(tf.logging.ERROR) # 仅记录错误信息\n",
    "import numpy as np"
   ]
  },
  {
   "cell_type": "code",
   "execution_count": 0,
   "metadata": {
    "colab": {},
    "colab_type": "code",
    "id": "R_QoGsk8Jbz3"
   },
   "outputs": [],
   "source": [
    "celsius_q    = np.array([-40, -10,  0,  8, 15, 22,  38],dtype=float)\n",
    "fahrenheit_a = np.array([-40,  14, 32, 46, 59, 72, 100],dtype=float)\n",
    "for i,c in enumerate(celsius_q):\n",
    "  print(\"{} degrees Celsius = {} degrees Fahrenhet\".format(c,fahrenheit_a[i]))"
   ]
  },
  {
   "cell_type": "markdown",
   "metadata": {
    "colab_type": "text",
    "id": "ftWtUUebKTqU"
   },
   "source": [
    "### Some Machine Learning teriminology(一些机器学习专用术语)\n",
    "- 特征：模型的输入\n",
    "- 样本：用于训练流程的输入/输出对\n",
    "- 标签：模型的输出\n",
    "- 层级：神经网络中相互连接的节点集合。\n",
    "- 模型：神经网络的表示法\n",
    "- 密集全连接层 (FC)：一个层级中的每个节点都与上个层级中的每个节点相连。\n",
    "- 权重和偏差：模型的内部变量\n",
    "- 损失：期望输出和真实输出之间的差值\n",
    "- MSE：均方误差，一种损失函数，它会将一小部分很大的差值视作比大量很小的差值更糟糕。\n",
    "- 梯度下降法：每次小幅调整内部变量，从而逐渐降低损失函数的算法。\n",
    "- 优化器：梯度下降法的一种具体实现方法。（有很多算法。在这门课程中，我们将仅使用“Adam”优化器，它是 ADAptive with Momentum 的简称，并且被视为最佳优化器。）\n",
    "- 学习速率：梯度下降过程中的损失改进“步长”。\n",
    "- 批次：在训练神经网络的过程中使用的一组样本。\n",
    "- 周期：完全经过整个训练数据集一轮\n",
    "- 前向传播：根据输入计算输出值\n",
    "- 反向传播：根据优化器算法计算内部变量的调整幅度，从输出层级开始，并往回计算每个层级，直到抵达输入层。"
   ]
  },
  {
   "cell_type": "code",
   "execution_count": 0,
   "metadata": {
    "colab": {},
    "colab_type": "code",
    "id": "0DoQjLM-LhWN"
   },
   "outputs": [],
   "source": [
    "l0 = tf.keras.layers.Dense(units=1, input_shape=[1]) # units指定了这个层级将有多少内部变量"
   ]
  },
  {
   "cell_type": "code",
   "execution_count": 0,
   "metadata": {
    "colab": {},
    "colab_type": "code",
    "id": "dE6GdZroL0tj"
   },
   "outputs": [],
   "source": [
    "model = tf.keras.Sequential([l0])"
   ]
  },
  {
   "cell_type": "code",
   "execution_count": 0,
   "metadata": {
    "colab": {},
    "colab_type": "code",
    "id": "dVLggEVYL4-F"
   },
   "outputs": [],
   "source": [
    "model.compile(loss='mean_squared_error',\n",
    "              optimizer=tf.keras.optimizers.Adam(0.1))\n",
    "# Tensorflow uses loss and optimizer to find the best model.\n",
    "# mean_squared_error均方误差\n",
    "# The 0.1 here is called the learning rate(学习速率)\n",
    "# Any value between 0.1 and 0.001 could make sense here.(0.1-0.001之间的任何值都可以)"
   ]
  },
  {
   "cell_type": "code",
   "execution_count": 0,
   "metadata": {
    "colab": {},
    "colab_type": "code",
    "id": "MsqbUHK-NYLY"
   },
   "outputs": [],
   "source": [
    "history = model.fit(celsius_q, fahrenheit_a, epochs=500, verbose=False)#有7个映射样本，所以模型一共训练3500个样本\n",
    "print(\"Finished training the model\")"
   ]
  },
  {
   "cell_type": "code",
   "execution_count": 0,
   "metadata": {
    "colab": {},
    "colab_type": "code",
    "id": "9qLmTDjANzPh"
   },
   "outputs": [],
   "source": [
    "import matplotlib.pyplot as plt\n",
    "plt.xlabel('Epoch Number')\n",
    "plt.ylabel('Loss Magnitude')\n",
    "plt.plot(history.history['loss'])"
   ]
  },
  {
   "cell_type": "code",
   "execution_count": 0,
   "metadata": {
    "colab": {},
    "colab_type": "code",
    "id": "WEUdKsJiOntQ"
   },
   "outputs": [],
   "source": [
    "print(model.predict([100.0]))"
   ]
  },
  {
   "cell_type": "markdown",
   "metadata": {
    "colab_type": "text",
    "id": "AabkH1Z1QShj"
   },
   "source": [
    "100*1.8+32=212"
   ]
  },
  {
   "cell_type": "code",
   "execution_count": 0,
   "metadata": {
    "colab": {},
    "colab_type": "code",
    "id": "kYvQrRTaQOfn"
   },
   "outputs": [],
   "source": [
    "print(\"These are the layer variables: {}\".format(l0.get_weights()))"
   ]
  }
 ],
 "metadata": {
  "colab": {
   "name": "TFSD_S1L1_Colab_Celsius_To_Fahrenheit",
   "provenance": [],
   "version": "0.3.2"
  },
  "kernelspec": {
   "display_name": "Python 3",
   "language": "python",
   "name": "python3"
  },
  "language_info": {
   "codemirror_mode": {
    "name": "ipython",
    "version": 3
   },
   "file_extension": ".py",
   "mimetype": "text/x-python",
   "name": "python",
   "nbconvert_exporter": "python",
   "pygments_lexer": "ipython3",
   "version": "3.6.2"
  }
 },
 "nbformat": 4,
 "nbformat_minor": 1
}
